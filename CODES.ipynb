{
  "nbformat": 4,
  "nbformat_minor": 0,
  "metadata": {
    "colab": {
      "provenance": [],
      "authorship_tag": "ABX9TyMr3mK7TcZU2FqG2Abr7lKY",
      "include_colab_link": true
    },
    "kernelspec": {
      "name": "python3",
      "display_name": "Python 3"
    },
    "language_info": {
      "name": "python"
    }
  },
  "cells": [
    {
      "cell_type": "markdown",
      "metadata": {
        "id": "view-in-github",
        "colab_type": "text"
      },
      "source": [
        "<a href=\"https://colab.research.google.com/github/GeetanjaliRayapureddy/CODES1/blob/main/CODES.ipynb\" target=\"_parent\"><img src=\"https://colab.research.google.com/assets/colab-badge.svg\" alt=\"Open In Colab\"/></a>"
      ]
    },
    {
      "cell_type": "markdown",
      "source": [
        "**Small Large Sum**\n",
        "\n",
        "Write a function SmallLargeSum(array) which accepts the array as an argument or parameter, that performs the addition of the second largest element from the even location with the second largest element from an odd location? Rules: All the array elements are unique. If the length of the array is 3 or less than 3, then return 0. If Array is empty then return zero.\n",
        "\n",
        " Sample Test Case 1:\n",
        "\n",
        "  Input: 6\n",
        "  \n",
        "   3 2 1 7 5 4\n",
        "\n",
        "  Output: 7\n",
        "  \n",
        "  Explanation: The second largest element in the even locations (3, 1, 5) is 3. The second largest element in the odd locations (2, 7, 4) is 4. So the addition of 3 and 4 is 7. So the answer is 7."
      ],
      "metadata": {
        "id": "_ZILMOTrNAzU"
      }
    },
    {
      "cell_type": "code",
      "source": [
        "length = int(input())\n",
        "arr = list(map(int, input().split()))\n",
        "even_arr = []\n",
        "odd_arr = []\n",
        "for i in range(length):\n",
        "    if i%2==0:\n",
        "        even_arr.append(arr[i])\n",
        "    else:\n",
        "        odd_arr.append(arr[i])\n",
        "even_arr = sorted(even_arr)\n",
        "odd_arr = sorted(odd_arr)\n",
        "print(even_arr[-2]+odd_arr[-2])"
      ],
      "metadata": {
        "id": "I3-QPRb5NKZ7",
        "colab": {
          "base_uri": "https://localhost:8080/"
        },
        "outputId": "d45a4ffa-8e3e-4522-ec6a-1af4f074a691"
      },
      "execution_count": 3,
      "outputs": [
        {
          "output_type": "stream",
          "name": "stdout",
          "text": [
            "6\n",
            "3 2 1 7 5 4\n",
            "7\n"
          ]
        }
      ]
    },
    {
      "cell_type": "markdown",
      "source": [
        "**NO.OF COUNTS REQUIRED FOR PRINTING THE ASCENDING ORDER ARRAY:**\n",
        "\n",
        "Write a program to count the number of swaps required to sort a given list of integers in ascending order using the selection algorithm"
      ],
      "metadata": {
        "id": "nm69cahvlK68"
      }
    },
    {
      "cell_type": "code",
      "source": [
        "n = int(input())\n",
        "arr = list(map(int, input().split()))\n",
        "for i in range(len(arr) - 1):\n",
        "    for j in range(i + 1, len(arr)):\n",
        "        if arr[i] > arr[j]:\n",
        "            arr[i], arr[j] = arr[j], arr[i]\n",
        "print(i)"
      ],
      "metadata": {
        "colab": {
          "base_uri": "https://localhost:8080/"
        },
        "id": "Z2gnLZ2Wlfn7",
        "outputId": "ad425a72-f05f-4620-9217-a4e00f77ff12"
      },
      "execution_count": 4,
      "outputs": [
        {
          "output_type": "stream",
          "name": "stdout",
          "text": [
            "5\n",
            "10 4 12 3 1\n",
            "3\n"
          ]
        }
      ]
    },
    {
      "cell_type": "markdown",
      "source": [
        "**REBOUND HEIGHT:**\n",
        "\n",
        "Daniel ha sa ball.he wants to find the rebound height,which he dropped from height H with an intial velocity V.After the Nth rebound the final velocity of the balls Vn your task is to help him find and return an integer value representing the height to which the ball rebounds after N bounces."
      ],
      "metadata": {
        "id": "6u18iLWvmAOg"
      }
    },
    {
      "cell_type": "code",
      "source": [
        "height=int(input())\n",
        "velocity=int(input())\n",
        "finalvelocity=int(input())\n",
        "ans=int((height) * (velocity / finalvelocity) * (velocity/finalvelocity))\n",
        "print(ans)"
      ],
      "metadata": {
        "colab": {
          "base_uri": "https://localhost:8080/"
        },
        "id": "hKD0Tl2emBsk",
        "outputId": "3f75d57f-99c7-4c3f-c7fb-219d2b26df94"
      },
      "execution_count": 6,
      "outputs": [
        {
          "output_type": "stream",
          "name": "stdout",
          "text": [
            "10\n",
            "20\n",
            "5\n",
            "160\n"
          ]
        }
      ]
    }
  ]
}